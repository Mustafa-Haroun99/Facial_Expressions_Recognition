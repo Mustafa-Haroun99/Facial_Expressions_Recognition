{
  "cells": [
    {
      "cell_type": "code",
      "execution_count": null,
      "metadata": {
        "colab": {
          "base_uri": "https://localhost:8080/"
        },
        "id": "GKtLNRjzals4",
        "outputId": "39c95432-138e-4f46-86c3-e309dc21fcd2"
      },
      "outputs": [
        {
          "output_type": "stream",
          "name": "stdout",
          "text": [
            "Skipping, found downloaded files in \"./fer2013\" (use force=True to force download)\n"
          ]
        }
      ],
      "source": [
        "#upload the data into colab\n",
        "import opendatasets as od\n",
        "import pandas\n",
        "  \n",
        "od.download(\"https://www.kaggle.com/datasets/msambare/fer2013\")"
      ]
    },
    {
      "cell_type": "code",
      "execution_count": null,
      "metadata": {
        "id": "vaXTHHsHNj1v"
      },
      "outputs": [],
      "source": [
        "from tensorflow.keras.models import Sequential\n",
        "from tensorflow.keras.layers import InputLayer, Dense, Flatten, BatchNormalization, Activation, Dropout\n",
        "import os\n",
        "import tensorflow as tf"
      ]
    },
    {
      "cell_type": "code",
      "execution_count": null,
      "metadata": {
        "colab": {
          "base_uri": "https://localhost:8080/"
        },
        "id": "H-HYJmonjQwP",
        "outputId": "2da7667f-bd8e-4521-ac82-72ca68fdde8e"
      },
      "outputs": [
        {
          "output_type": "stream",
          "name": "stdout",
          "text": [
            "Found GPU at: /device:GPU:0\n"
          ]
        }
      ],
      "source": [
        "import tensorflow as tf\n",
        "device_name = tf.test.gpu_device_name()\n",
        "if device_name != '/device:GPU:0':\n",
        "  raise SystemError('GPU device not found')\n",
        "print('Found GPU at: {}'.format(device_name))"
      ]
    },
    {
      "cell_type": "code",
      "execution_count": null,
      "metadata": {
        "id": "Bogp18D2iglG"
      },
      "outputs": [],
      "source": [
        "device = tf.config.list_physical_devices('GPU')\n",
        "if len(device) > 0:\n",
        "        tf.config.experimental.set_memory_growth(device[0], True)"
      ]
    },
    {
      "cell_type": "code",
      "execution_count": null,
      "metadata": {
        "colab": {
          "base_uri": "https://localhost:8080/"
        },
        "id": "9BcelK-XcwyA",
        "outputId": "7b4afe8a-09ef-4489-91b9-ef2e66df2f8d"
      },
      "outputs": [
        {
          "output_type": "stream",
          "name": "stdout",
          "text": [
            "Found 28709 files belonging to 7 classes.\n",
            "Using 22968 files for training.\n",
            "Found 28709 files belonging to 7 classes.\n",
            "Using 5741 files for validation.\n",
            "Found 7178 files belonging to 7 classes.\n"
          ]
        }
      ],
      "source": [
        "main_dir = 'fer2013'\n",
        "train_dir = os.path.join(main_dir, 'train')\n",
        "test_dir = os.path.join(main_dir, 'test')\n",
        "\n",
        "class_names = ['angry', 'disgust', 'fear', 'happy', 'sad','surprise','neutral']\n",
        "\n",
        "train_set = tf.keras.utils.image_dataset_from_directory(\n",
        "    directory=train_dir,\n",
        "    labels='inferred',\n",
        "    label_mode='int',\n",
        "    class_names=class_names,\n",
        "    color_mode='rgb',\n",
        "    batch_size=32,\n",
        "    image_size=(48, 48),\n",
        "    shuffle=True,\n",
        "    seed=1024,\n",
        "    validation_split=0.2,\n",
        "    subset='training',\n",
        "    interpolation='bilinear',\n",
        "    follow_links=False,\n",
        "    crop_to_aspect_ratio=False,\n",
        ")\n",
        "validation_set = tf.keras.utils.image_dataset_from_directory(\n",
        "    directory=train_dir,\n",
        "    labels='inferred',\n",
        "    label_mode='int',\n",
        "    class_names=class_names,\n",
        "    color_mode='rgb',\n",
        "    batch_size=32,\n",
        "    image_size=(48, 48),\n",
        "    shuffle=True,\n",
        "    seed=1024,\n",
        "    validation_split=0.2,\n",
        "    subset='validation',\n",
        "    interpolation='bilinear',\n",
        "    follow_links=False,\n",
        "    crop_to_aspect_ratio=False,\n",
        ")\n",
        "test_set = tf.keras.utils.image_dataset_from_directory(\n",
        "    directory=test_dir,\n",
        "    labels='inferred',\n",
        "    label_mode='int',\n",
        "    class_names=class_names,\n",
        "    color_mode='rgb',\n",
        "    batch_size=32,\n",
        "    image_size=(48, 48),\n",
        "    shuffle=True,\n",
        "    seed=None,\n",
        "    validation_split=None,\n",
        "    subset=None,\n",
        "    interpolation='bilinear',\n",
        "    follow_links=False,\n",
        "    crop_to_aspect_ratio=False,\n",
        ")"
      ]
    },
    {
      "cell_type": "code",
      "execution_count": null,
      "metadata": {
        "id": "vb0FBa3PdaGM"
      },
      "outputs": [],
      "source": [
        "from tensorflow.keras.models import Sequential\n",
        "from tensorflow.keras.layers import InputLayer, Dense, Flatten, BatchNormalization, Activation, Dropout\n",
        "\n",
        "with tf.device('/device:GPU:0'):\n",
        "  NN_model = Sequential([\n",
        "    InputLayer(input_shape=(48, 48, 3)),\n",
        "    Flatten(),\n",
        "    Dense(units = 256),\n",
        "    BatchNormalization(),\n",
        "    Activation('relu'),\n",
        "    Dropout(0.25),\n",
        "    Dense(512),\n",
        "    BatchNormalization(),\n",
        "    Activation('relu'),\n",
        "    Dropout(0.25),\n",
        "    Dense(units=7, activation = 'softmax')\n",
        "])"
      ]
    },
    {
      "cell_type": "code",
      "execution_count": null,
      "metadata": {
        "colab": {
          "base_uri": "https://localhost:8080/"
        },
        "id": "DGAWRSKrde1x",
        "outputId": "3a16af4e-4500-4c34-9387-e264a28db493"
      },
      "outputs": [
        {
          "output_type": "stream",
          "name": "stdout",
          "text": [
            "Model: \"sequential_9\"\n",
            "_________________________________________________________________\n",
            " Layer (type)                Output Shape              Param #   \n",
            "=================================================================\n",
            " flatten_9 (Flatten)         (None, 6912)              0         \n",
            "                                                                 \n",
            " dense_27 (Dense)            (None, 256)               1769728   \n",
            "                                                                 \n",
            " batch_normalization_18 (Bat  (None, 256)              1024      \n",
            " chNormalization)                                                \n",
            "                                                                 \n",
            " activation_18 (Activation)  (None, 256)               0         \n",
            "                                                                 \n",
            " dropout_18 (Dropout)        (None, 256)               0         \n",
            "                                                                 \n",
            " dense_28 (Dense)            (None, 512)               131584    \n",
            "                                                                 \n",
            " batch_normalization_19 (Bat  (None, 512)              2048      \n",
            " chNormalization)                                                \n",
            "                                                                 \n",
            " activation_19 (Activation)  (None, 512)               0         \n",
            "                                                                 \n",
            " dropout_19 (Dropout)        (None, 512)               0         \n",
            "                                                                 \n",
            " dense_29 (Dense)            (None, 7)                 3591      \n",
            "                                                                 \n",
            "=================================================================\n",
            "Total params: 1,907,975\n",
            "Trainable params: 1,906,439\n",
            "Non-trainable params: 1,536\n",
            "_________________________________________________________________\n"
          ]
        }
      ],
      "source": [
        "NN_model.build((48, 48, 3))\n",
        "NN_model.summary()"
      ]
    },
    {
      "cell_type": "code",
      "execution_count": null,
      "metadata": {
        "id": "lmRHTVJXnvmD"
      },
      "outputs": [],
      "source": [
        "def input_image_normalization(image, label):\n",
        "  image = tf.cast(image/255. , tf.float32)\n",
        "  return image, label\n",
        "norm_train_set = train_set.map(input_image_normalization)\n",
        "norm_vald_set = validation_set.map(input_image_normalization)\n",
        "norm_test_set = test_set.map(input_image_normalization)"
      ]
    },
    {
      "cell_type": "code",
      "execution_count": null,
      "metadata": {
        "id": "a4fNysuXsGlI"
      },
      "outputs": [],
      "source": [
        "optimizer=tf.keras.optimizers.Adam(learning_rate=0.0001)\n",
        "NN_model.compile(optimizer=optimizer,\n",
        "                  loss=tf.keras.losses.SparseCategoricalCrossentropy(),\n",
        "                  metrics=['accuracy'])"
      ]
    },
    {
      "cell_type": "code",
      "execution_count": null,
      "metadata": {
        "colab": {
          "base_uri": "https://localhost:8080/"
        },
        "id": "tKCwmDdAduGA",
        "outputId": "57c178d8-eb1a-40e0-df72-ef62add144cb"
      },
      "outputs": [
        {
          "output_type": "stream",
          "name": "stdout",
          "text": [
            "Epoch 1/30\n",
            "718/718 [==============================] - 11s 14ms/step - loss: 1.8888 - accuracy: 0.2830 - val_loss: 1.8361 - val_accuracy: 0.3310\n",
            "Epoch 2/30\n",
            "718/718 [==============================] - 10s 14ms/step - loss: 1.7541 - accuracy: 0.3230 - val_loss: 1.6905 - val_accuracy: 0.3424\n",
            "Epoch 3/30\n",
            "718/718 [==============================] - 10s 13ms/step - loss: 1.7012 - accuracy: 0.3419 - val_loss: 1.6755 - val_accuracy: 0.3364\n",
            "Epoch 4/30\n",
            "718/718 [==============================] - 10s 13ms/step - loss: 1.6570 - accuracy: 0.3619 - val_loss: 1.6972 - val_accuracy: 0.3478\n",
            "Epoch 5/30\n",
            "718/718 [==============================] - 9s 13ms/step - loss: 1.6218 - accuracy: 0.3724 - val_loss: 1.6718 - val_accuracy: 0.3593\n",
            "Epoch 6/30\n",
            "718/718 [==============================] - 10s 13ms/step - loss: 1.5863 - accuracy: 0.3853 - val_loss: 1.7082 - val_accuracy: 0.3473\n",
            "Epoch 7/30\n",
            "718/718 [==============================] - 10s 15ms/step - loss: 1.5589 - accuracy: 0.3950 - val_loss: 1.6354 - val_accuracy: 0.3654\n",
            "Epoch 8/30\n",
            "718/718 [==============================] - 10s 13ms/step - loss: 1.5391 - accuracy: 0.4062 - val_loss: 1.6134 - val_accuracy: 0.3736\n",
            "Epoch 9/30\n",
            "718/718 [==============================] - 10s 14ms/step - loss: 1.5096 - accuracy: 0.4135 - val_loss: 1.6732 - val_accuracy: 0.3578\n",
            "Epoch 10/30\n",
            "718/718 [==============================] - 10s 14ms/step - loss: 1.4842 - accuracy: 0.4273 - val_loss: 1.6188 - val_accuracy: 0.3855\n",
            "Epoch 11/30\n",
            "718/718 [==============================] - 9s 13ms/step - loss: 1.4662 - accuracy: 0.4360 - val_loss: 1.6115 - val_accuracy: 0.3778\n",
            "Epoch 12/30\n",
            "718/718 [==============================] - 10s 14ms/step - loss: 1.4443 - accuracy: 0.4457 - val_loss: 1.6065 - val_accuracy: 0.3829\n",
            "Epoch 13/30\n",
            "718/718 [==============================] - 9s 13ms/step - loss: 1.4224 - accuracy: 0.4523 - val_loss: 1.6107 - val_accuracy: 0.3834\n",
            "Epoch 14/30\n",
            "718/718 [==============================] - 9s 13ms/step - loss: 1.4049 - accuracy: 0.4605 - val_loss: 1.6398 - val_accuracy: 0.3762\n",
            "Epoch 15/30\n",
            "718/718 [==============================] - 10s 14ms/step - loss: 1.3849 - accuracy: 0.4677 - val_loss: 1.5571 - val_accuracy: 0.4015\n",
            "Epoch 16/30\n",
            "718/718 [==============================] - 10s 14ms/step - loss: 1.3653 - accuracy: 0.4762 - val_loss: 1.5676 - val_accuracy: 0.3975\n",
            "Epoch 17/30\n",
            "718/718 [==============================] - 10s 13ms/step - loss: 1.3502 - accuracy: 0.4820 - val_loss: 1.7553 - val_accuracy: 0.3193\n",
            "Epoch 18/30\n",
            "718/718 [==============================] - 10s 13ms/step - loss: 1.3283 - accuracy: 0.4888 - val_loss: 1.5552 - val_accuracy: 0.4086\n",
            "Epoch 19/30\n",
            "718/718 [==============================] - 10s 13ms/step - loss: 1.3182 - accuracy: 0.4983 - val_loss: 1.6899 - val_accuracy: 0.3637\n",
            "Epoch 20/30\n",
            "718/718 [==============================] - 10s 14ms/step - loss: 1.2988 - accuracy: 0.5096 - val_loss: 1.6260 - val_accuracy: 0.3792\n",
            "Epoch 21/30\n",
            "718/718 [==============================] - 10s 14ms/step - loss: 1.2829 - accuracy: 0.5151 - val_loss: 1.6892 - val_accuracy: 0.3836\n",
            "Epoch 22/30\n",
            "718/718 [==============================] - 10s 13ms/step - loss: 1.2703 - accuracy: 0.5191 - val_loss: 1.7546 - val_accuracy: 0.3731\n",
            "Epoch 23/30\n",
            "718/718 [==============================] - 10s 14ms/step - loss: 1.2462 - accuracy: 0.5323 - val_loss: 1.6441 - val_accuracy: 0.3797\n",
            "Epoch 24/30\n",
            "718/718 [==============================] - 10s 14ms/step - loss: 1.2342 - accuracy: 0.5378 - val_loss: 1.7065 - val_accuracy: 0.3647\n",
            "Epoch 25/30\n",
            "718/718 [==============================] - 10s 14ms/step - loss: 1.2163 - accuracy: 0.5378 - val_loss: 1.6227 - val_accuracy: 0.3902\n",
            "Epoch 26/30\n",
            "718/718 [==============================] - 10s 14ms/step - loss: 1.2056 - accuracy: 0.5466 - val_loss: 1.6643 - val_accuracy: 0.3870\n",
            "Epoch 27/30\n",
            "718/718 [==============================] - 10s 14ms/step - loss: 1.1799 - accuracy: 0.5540 - val_loss: 1.8231 - val_accuracy: 0.3412\n",
            "Epoch 28/30\n",
            "718/718 [==============================] - 10s 15ms/step - loss: 1.1615 - accuracy: 0.5618 - val_loss: 1.8173 - val_accuracy: 0.3515\n",
            "Epoch 29/30\n",
            "718/718 [==============================] - 10s 14ms/step - loss: 1.1545 - accuracy: 0.5633 - val_loss: 1.6444 - val_accuracy: 0.3884\n",
            "Epoch 30/30\n",
            "718/718 [==============================] - 11s 15ms/step - loss: 1.1404 - accuracy: 0.5724 - val_loss: 1.8084 - val_accuracy: 0.3614\n"
          ]
        }
      ],
      "source": [
        "history = NN_model.fit(norm_train_set, validation_data=norm_vald_set,\n",
        "                        epochs=30, batch_size=32, \n",
        "                        shuffle=False)"
      ]
    },
    {
      "cell_type": "code",
      "source": [
        "NN_model.evaluate(norm_test_set)"
      ],
      "metadata": {
        "colab": {
          "base_uri": "https://localhost:8080/"
        },
        "id": "ZpjxiMipmLQ7",
        "outputId": "31d04fe2-45de-44f1-d2cd-5c3658cb546f"
      },
      "execution_count": null,
      "outputs": [
        {
          "output_type": "stream",
          "name": "stdout",
          "text": [
            "225/225 [==============================] - 3s 12ms/step - loss: 1.8071 - accuracy: 0.3644\n"
          ]
        },
        {
          "output_type": "execute_result",
          "data": {
            "text/plain": [
              "[1.8070987462997437, 0.3644469082355499]"
            ]
          },
          "metadata": {},
          "execution_count": 73
        }
      ]
    }
  ],
  "metadata": {
    "accelerator": "GPU",
    "colab": {
      "provenance": []
    },
    "gpuClass": "standard",
    "kernelspec": {
      "display_name": "Python 3",
      "name": "python3"
    },
    "language_info": {
      "name": "python"
    }
  },
  "nbformat": 4,
  "nbformat_minor": 0
}